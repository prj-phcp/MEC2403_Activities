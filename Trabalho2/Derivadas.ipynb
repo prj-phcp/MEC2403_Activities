{
 "cells": [
  {
   "cell_type": "code",
   "execution_count": 2,
   "metadata": {},
   "outputs": [],
   "source": [
    "import sympy as sp"
   ]
  },
  {
   "attachments": {},
   "cell_type": "markdown",
   "metadata": {},
   "source": [
    "## Questão 2"
   ]
  },
  {
   "cell_type": "code",
   "execution_count": 4,
   "metadata": {},
   "outputs": [],
   "source": [
    "d, B, P, t, E, rho, H, pi = sp.symbols('d, B, P, t, E, rho, H, pi')"
   ]
  },
  {
   "cell_type": "code",
   "execution_count": 6,
   "metadata": {},
   "outputs": [],
   "source": [
    "f = 2.0*rho*pi*d*t*sp.sqrt(H**2 + B**2)"
   ]
  },
  {
   "cell_type": "code",
   "execution_count": 8,
   "metadata": {},
   "outputs": [
    {
     "name": "stdout",
     "output_type": "stream",
     "text": [
      "np.array([[2.0*np.pi*rho*t*np.sqrt(B**2 + H**2), 2.0*H*d*np.pi*rho*t/np.sqrt(B**2 + H**2)]])\n"
     ]
    }
   ],
   "source": [
    "grad = sp.Matrix([f]).jacobian(sp.Matrix([d, H]))\n",
    "str_grad = sp.pycode(grad).replace('math', 'np').replace('ImmutableDenseMatrix', 'np.array').replace('\\\\','').replace('_','').replace('pi', 'np.pi')\n",
    "print(str_grad)"
   ]
  },
  {
   "cell_type": "code",
   "execution_count": 9,
   "metadata": {},
   "outputs": [
    {
     "name": "stdout",
     "output_type": "stream",
     "text": [
      "np.array([[0, 2.0*H*np.pi*rho*t/np.sqrt(B**2 + H**2)], [2.0*H*np.pi*rho*t/np.sqrt(B**2 + H**2), -2.0*H**2*d*np.pi*rho*t/(B**2 + H**2)**(3/2) + 2.0*d*np.pi*rho*t/np.sqrt(B**2 + H**2)]])\n"
     ]
    }
   ],
   "source": [
    "hessian = sp.hessian(f, [d, H])\n",
    "str_hess = sp.pycode(hessian).replace('math', 'np').replace('ImmutableDenseMatrix', 'np.array').replace('\\\\','').replace('_','').replace('pi', 'np.pi')\n",
    "print(str_hess)"
   ]
  },
  {
   "cell_type": "code",
   "execution_count": 11,
   "metadata": {},
   "outputs": [],
   "source": [
    "sigma = P * sp.sqrt(H**2 + B**2) / (pi * d * t * H)"
   ]
  },
  {
   "cell_type": "code",
   "execution_count": 12,
   "metadata": {},
   "outputs": [
    {
     "name": "stdout",
     "output_type": "stream",
     "text": [
      "np.array([[-P*np.sqrt(B**2 + H**2)/(H*d**2*np.pi*t), P/(d*np.pi*t*np.sqrt(B**2 + H**2)) - P*np.sqrt(B**2 + H**2)/(H**2*d*np.pi*t)]])\n"
     ]
    }
   ],
   "source": [
    "grad = sp.Matrix([sigma]).jacobian(sp.Matrix([d, H]))\n",
    "str_grad = sp.pycode(grad).replace('math', 'np').replace('ImmutableDenseMatrix', 'np.array').replace('\\\\','').replace('_','').replace('pi', 'np.pi')\n",
    "print(str_grad)"
   ]
  },
  {
   "cell_type": "code",
   "execution_count": 13,
   "metadata": {},
   "outputs": [
    {
     "name": "stdout",
     "output_type": "stream",
     "text": [
      "np.array([[2*P*np.sqrt(B**2 + H**2)/(H*d**3*np.pi*t), -P/(d**2*np.pi*t*np.sqrt(B**2 + H**2)) + P*np.sqrt(B**2 + H**2)/(H**2*d**2*np.pi*t)], [-P/(d**2*np.pi*t*np.sqrt(B**2 + H**2)) + P*np.sqrt(B**2 + H**2)/(H**2*d**2*np.pi*t), -H*P/(d*np.pi*t*(B**2 + H**2)**(3/2)) - P/(H*d*np.pi*t*np.sqrt(B**2 + H**2)) + 2*P*np.sqrt(B**2 + H**2)/(H**3*d*np.pi*t)]])\n"
     ]
    }
   ],
   "source": [
    "hessian = sp.hessian(sigma, [d, H])\n",
    "str_hess = sp.pycode(hessian).replace('math', 'np').replace('ImmutableDenseMatrix', 'np.array').replace('\\\\','').replace('_','').replace('pi', 'np.pi')\n",
    "print(str_hess)"
   ]
  },
  {
   "cell_type": "code",
   "execution_count": 14,
   "metadata": {},
   "outputs": [],
   "source": [
    "flamb = P * sp.sqrt(H**2 + B**2) / (pi * d * t * H) - pi **2 * E * (d**2+t**2) / (8.0*(H**2 + B**2))"
   ]
  },
  {
   "cell_type": "code",
   "execution_count": 15,
   "metadata": {},
   "outputs": [
    {
     "name": "stdout",
     "output_type": "stream",
     "text": [
      "np.array([[-2*E*d*np.pi**2/(8.0*B**2 + 8.0*H**2) - P*np.sqrt(B**2 + H**2)/(H*d**2*np.pi*t), 0.25*E*H*np.pi**2*(d**2 + t**2)/(B**2 + H**2)**2 + P/(d*np.pi*t*np.sqrt(B**2 + H**2)) - P*np.sqrt(B**2 + H**2)/(H**2*d*np.pi*t)]])\n"
     ]
    }
   ],
   "source": [
    "grad = sp.Matrix([flamb]).jacobian(sp.Matrix([d, H]))\n",
    "str_grad = sp.pycode(grad).replace('math', 'np').replace('ImmutableDenseMatrix', 'np.array').replace('\\\\','').replace('_','').replace('pi', 'np.pi')\n",
    "print(str_grad)"
   ]
  },
  {
   "cell_type": "code",
   "execution_count": 16,
   "metadata": {},
   "outputs": [
    {
     "name": "stdout",
     "output_type": "stream",
     "text": [
      "np.array([[-2*E*np.pi**2/(8.0*B**2 + 8.0*H**2) + 2*P*np.sqrt(B**2 + H**2)/(H*d**3*np.pi*t), 0.5*E*H*d*np.pi**2/(B**2 + H**2)**2 - P/(d**2*np.pi*t*np.sqrt(B**2 + H**2)) + P*np.sqrt(B**2 + H**2)/(H**2*d**2*np.pi*t)], [0.5*E*H*d*np.pi**2/(B**2 + H**2)**2 - P/(d**2*np.pi*t*np.sqrt(B**2 + H**2)) + P*np.sqrt(B**2 + H**2)/(H**2*d**2*np.pi*t), -1.0*E*H**2*np.pi**2*(d**2 + t**2)/(B**2 + H**2)**3 + 0.25*E*np.pi**2*(d**2 + t**2)/(B**2 + H**2)**2 - H*P/(d*np.pi*t*(B**2 + H**2)**(3/2)) - P/(H*d*np.pi*t*np.sqrt(B**2 + H**2)) + 2*P*np.sqrt(B**2 + H**2)/(H**3*d*np.pi*t)]])\n"
     ]
    }
   ],
   "source": [
    "hessian = sp.hessian(flamb, [d, H])\n",
    "str_hess = sp.pycode(hessian).replace('math', 'np').replace('ImmutableDenseMatrix', 'np.array').replace('\\\\','').replace('_','').replace('pi', 'np.pi')\n",
    "print(str_hess)"
   ]
  },
  {
   "attachments": {},
   "cell_type": "markdown",
   "metadata": {},
   "source": [
    "## Questão 4"
   ]
  },
  {
   "cell_type": "code",
   "execution_count": 3,
   "metadata": {},
   "outputs": [],
   "source": [
    "R, t, pi, DELTA, P, L, E, rho = sp.symbols('R, t, pi, DELTA, P, L, E, rho')"
   ]
  },
  {
   "cell_type": "code",
   "execution_count": 5,
   "metadata": {},
   "outputs": [],
   "source": [
    "e = 0.02 * R\n",
    "c = R + 0.5*t\n",
    "A = 2*pi*R*t\n",
    "I = pi* R**3 *t\n",
    "k2 = I/A"
   ]
  },
  {
   "cell_type": "code",
   "execution_count": 6,
   "metadata": {},
   "outputs": [],
   "source": [
    "sigma = P/A * (1.0 + e*c/k2 * (1.0/sp.cos(L*sp.sqrt(P/(E*I)))))"
   ]
  },
  {
   "cell_type": "code",
   "execution_count": 7,
   "metadata": {},
   "outputs": [
    {
     "data": {
      "text/latex": [
       "$\\displaystyle \\frac{P \\left(1.0 + \\frac{0.04 \\left(R + 0.5 t\\right)}{R \\cos{\\left(L \\sqrt{\\frac{P}{E R^{3} \\pi t}} \\right)}}\\right)}{2 R \\pi t}$"
      ],
      "text/plain": [
       "P*(1.0 + 0.04*(R + 0.5*t)/(R*cos(L*sqrt(P/(E*R**3*pi*t)))))/(2*R*pi*t)"
      ]
     },
     "execution_count": 7,
     "metadata": {},
     "output_type": "execute_result"
    }
   ],
   "source": [
    "sigma"
   ]
  },
  {
   "cell_type": "code",
   "execution_count": 8,
   "metadata": {},
   "outputs": [],
   "source": [
    "grad = sp.Matrix([sigma]).jacobian(sp.Matrix([R, t]))"
   ]
  },
  {
   "cell_type": "code",
   "execution_count": 9,
   "metadata": {},
   "outputs": [
    {
     "data": {
      "text/latex": [
       "$\\displaystyle \\left[\\begin{matrix}\\frac{P \\left(- \\frac{0.06 L \\sqrt{\\frac{P}{E R^{3} \\pi t}} \\left(R + 0.5 t\\right) \\sin{\\left(L \\sqrt{\\frac{P}{E R^{3} \\pi t}} \\right)}}{R^{2} \\cos^{2}{\\left(L \\sqrt{\\frac{P}{E R^{3} \\pi t}} \\right)}} + \\frac{0.04}{R \\cos{\\left(L \\sqrt{\\frac{P}{E R^{3} \\pi t}} \\right)}} - \\frac{0.04 \\left(R + 0.5 t\\right)}{R^{2} \\cos{\\left(L \\sqrt{\\frac{P}{E R^{3} \\pi t}} \\right)}}\\right)}{2 R \\pi t} - \\frac{P \\left(1.0 + \\frac{0.04 \\left(R + 0.5 t\\right)}{R \\cos{\\left(L \\sqrt{\\frac{P}{E R^{3} \\pi t}} \\right)}}\\right)}{2 R^{2} \\pi t} & \\frac{P \\left(- \\frac{0.02 L \\sqrt{\\frac{P}{E R^{3} \\pi t}} \\left(R + 0.5 t\\right) \\sin{\\left(L \\sqrt{\\frac{P}{E R^{3} \\pi t}} \\right)}}{R t \\cos^{2}{\\left(L \\sqrt{\\frac{P}{E R^{3} \\pi t}} \\right)}} + \\frac{0.02}{R \\cos{\\left(L \\sqrt{\\frac{P}{E R^{3} \\pi t}} \\right)}}\\right)}{2 R \\pi t} - \\frac{P \\left(1.0 + \\frac{0.04 \\left(R + 0.5 t\\right)}{R \\cos{\\left(L \\sqrt{\\frac{P}{E R^{3} \\pi t}} \\right)}}\\right)}{2 R \\pi t^{2}}\\end{matrix}\\right]$"
      ],
      "text/plain": [
       "Matrix([[P*(-0.06*L*sqrt(P/(E*R**3*pi*t))*(R + 0.5*t)*sin(L*sqrt(P/(E*R**3*pi*t)))/(R**2*cos(L*sqrt(P/(E*R**3*pi*t)))**2) + 0.04/(R*cos(L*sqrt(P/(E*R**3*pi*t)))) - 0.04*(R + 0.5*t)/(R**2*cos(L*sqrt(P/(E*R**3*pi*t)))))/(2*R*pi*t) - P*(1.0 + 0.04*(R + 0.5*t)/(R*cos(L*sqrt(P/(E*R**3*pi*t)))))/(2*R**2*pi*t), P*(-0.02*L*sqrt(P/(E*R**3*pi*t))*(R + 0.5*t)*sin(L*sqrt(P/(E*R**3*pi*t)))/(R*t*cos(L*sqrt(P/(E*R**3*pi*t)))**2) + 0.02/(R*cos(L*sqrt(P/(E*R**3*pi*t)))))/(2*R*pi*t) - P*(1.0 + 0.04*(R + 0.5*t)/(R*cos(L*sqrt(P/(E*R**3*pi*t)))))/(2*R*pi*t**2)]])"
      ]
     },
     "execution_count": 9,
     "metadata": {},
     "output_type": "execute_result"
    }
   ],
   "source": [
    "grad"
   ]
  },
  {
   "cell_type": "code",
   "execution_count": 11,
   "metadata": {},
   "outputs": [
    {
     "name": "stdout",
     "output_type": "stream",
     "text": [
      "np.array([[(1/2)*P*(-0.06*L*np.sqrt(P/(E*R**3*np.pi*t))*(R + 0.5*t)*np.sin(L*np.sqrt(P/(E*R**3*np.pi*t)))/(R**2*np.cos(L*np.sqrt(P/(E*R**3*np.pi*t)))**2) + 0.04/(R*np.cos(L*np.sqrt(P/(E*R**3*np.pi*t)))) - 0.04*(R + 0.5*t)/(R**2*np.cos(L*np.sqrt(P/(E*R**3*np.pi*t)))))/(R*np.pi*t) - 1/2*P*(1.0 + 0.04*(R + 0.5*t)/(R*np.cos(L*np.sqrt(P/(E*R**3*np.pi*t)))))/(R**2*np.pi*t), (1/2)*P*(-0.02*L*np.sqrt(P/(E*R**3*np.pi*t))*(R + 0.5*t)*np.sin(L*np.sqrt(P/(E*R**3*np.pi*t)))/(R*t*np.cos(L*np.sqrt(P/(E*R**3*np.pi*t)))**2) + 0.02/(R*np.cos(L*np.sqrt(P/(E*R**3*np.pi*t)))))/(R*np.pi*t) - 1/2*P*(1.0 + 0.04*(R + 0.5*t)/(R*np.cos(L*np.sqrt(P/(E*R**3*np.pi*t)))))/(R*np.pi*t**2)]])\n"
     ]
    }
   ],
   "source": [
    "str_grad = sp.pycode(grad).replace('math', 'np').replace('ImmutableDenseMatrix', 'np.array').replace('\\\\','').replace('_','').replace('pi', 'np.pi')\n",
    "print(str_grad)"
   ]
  },
  {
   "cell_type": "code",
   "execution_count": 12,
   "metadata": {},
   "outputs": [],
   "source": [
    "hessian = sp.hessian(sigma, [R, t])"
   ]
  },
  {
   "cell_type": "code",
   "execution_count": 13,
   "metadata": {},
   "outputs": [
    {
     "data": {
      "text/latex": [
       "$\\displaystyle \\left[\\begin{matrix}\\frac{P \\left(\\frac{0.18 L^{2} \\frac{P}{E R^{3} \\pi t} \\left(R + 0.5 t\\right) \\sin^{2}{\\left(L \\sqrt{\\frac{P}{E R^{3} \\pi t}} \\right)}}{R^{3} \\cos^{3}{\\left(L \\sqrt{\\frac{P}{E R^{3} \\pi t}} \\right)}} + \\frac{0.09 L^{2} \\frac{P}{E R^{3} \\pi t} \\left(R + 0.5 t\\right)}{R^{3} \\cos{\\left(L \\sqrt{\\frac{P}{E R^{3} \\pi t}} \\right)}} - \\frac{0.12 L \\sqrt{\\frac{P}{E R^{3} \\pi t}} \\sin{\\left(L \\sqrt{\\frac{P}{E R^{3} \\pi t}} \\right)}}{R^{2} \\cos^{2}{\\left(L \\sqrt{\\frac{P}{E R^{3} \\pi t}} \\right)}} + \\frac{0.27 L \\sqrt{\\frac{P}{E R^{3} \\pi t}} \\left(R + 0.5 t\\right) \\sin{\\left(L \\sqrt{\\frac{P}{E R^{3} \\pi t}} \\right)}}{R^{3} \\cos^{2}{\\left(L \\sqrt{\\frac{P}{E R^{3} \\pi t}} \\right)}} - \\frac{0.08}{R^{2} \\cos{\\left(L \\sqrt{\\frac{P}{E R^{3} \\pi t}} \\right)}} + \\frac{0.08 \\left(R + 0.5 t\\right)}{R^{3} \\cos{\\left(L \\sqrt{\\frac{P}{E R^{3} \\pi t}} \\right)}}\\right)}{2 R \\pi t} - \\frac{P \\left(- \\frac{0.06 L \\sqrt{\\frac{P}{E R^{3} \\pi t}} \\left(R + 0.5 t\\right) \\sin{\\left(L \\sqrt{\\frac{P}{E R^{3} \\pi t}} \\right)}}{R^{2} \\cos^{2}{\\left(L \\sqrt{\\frac{P}{E R^{3} \\pi t}} \\right)}} + \\frac{0.04}{R \\cos{\\left(L \\sqrt{\\frac{P}{E R^{3} \\pi t}} \\right)}} - \\frac{0.04 \\left(R + 0.5 t\\right)}{R^{2} \\cos{\\left(L \\sqrt{\\frac{P}{E R^{3} \\pi t}} \\right)}}\\right)}{R^{2} \\pi t} + \\frac{P \\left(1.0 + \\frac{0.04 \\left(R + 0.5 t\\right)}{R \\cos{\\left(L \\sqrt{\\frac{P}{E R^{3} \\pi t}} \\right)}}\\right)}{R^{3} \\pi t} & \\frac{P \\left(\\frac{0.06 L^{2} \\frac{P}{E R^{3} \\pi t} \\left(R + 0.5 t\\right) \\sin^{2}{\\left(L \\sqrt{\\frac{P}{E R^{3} \\pi t}} \\right)}}{R^{2} t \\cos^{3}{\\left(L \\sqrt{\\frac{P}{E R^{3} \\pi t}} \\right)}} + \\frac{0.03 L^{2} \\frac{P}{E R^{3} \\pi t} \\left(R + 0.5 t\\right)}{R^{2} t \\cos{\\left(L \\sqrt{\\frac{P}{E R^{3} \\pi t}} \\right)}} - \\frac{0.02 L \\sqrt{\\frac{P}{E R^{3} \\pi t}} \\sin{\\left(L \\sqrt{\\frac{P}{E R^{3} \\pi t}} \\right)}}{R t \\cos^{2}{\\left(L \\sqrt{\\frac{P}{E R^{3} \\pi t}} \\right)}} - \\frac{0.03 L \\sqrt{\\frac{P}{E R^{3} \\pi t}} \\sin{\\left(L \\sqrt{\\frac{P}{E R^{3} \\pi t}} \\right)}}{R^{2} \\cos^{2}{\\left(L \\sqrt{\\frac{P}{E R^{3} \\pi t}} \\right)}} + \\frac{0.05 L \\sqrt{\\frac{P}{E R^{3} \\pi t}} \\left(R + 0.5 t\\right) \\sin{\\left(L \\sqrt{\\frac{P}{E R^{3} \\pi t}} \\right)}}{R^{2} t \\cos^{2}{\\left(L \\sqrt{\\frac{P}{E R^{3} \\pi t}} \\right)}} - \\frac{0.02}{R^{2} \\cos{\\left(L \\sqrt{\\frac{P}{E R^{3} \\pi t}} \\right)}}\\right)}{2 R \\pi t} - \\frac{P \\left(- \\frac{0.06 L \\sqrt{\\frac{P}{E R^{3} \\pi t}} \\left(R + 0.5 t\\right) \\sin{\\left(L \\sqrt{\\frac{P}{E R^{3} \\pi t}} \\right)}}{R^{2} \\cos^{2}{\\left(L \\sqrt{\\frac{P}{E R^{3} \\pi t}} \\right)}} + \\frac{0.04}{R \\cos{\\left(L \\sqrt{\\frac{P}{E R^{3} \\pi t}} \\right)}} - \\frac{0.04 \\left(R + 0.5 t\\right)}{R^{2} \\cos{\\left(L \\sqrt{\\frac{P}{E R^{3} \\pi t}} \\right)}}\\right)}{2 R \\pi t^{2}} - \\frac{P \\left(- \\frac{0.02 L \\sqrt{\\frac{P}{E R^{3} \\pi t}} \\left(R + 0.5 t\\right) \\sin{\\left(L \\sqrt{\\frac{P}{E R^{3} \\pi t}} \\right)}}{R t \\cos^{2}{\\left(L \\sqrt{\\frac{P}{E R^{3} \\pi t}} \\right)}} + \\frac{0.02}{R \\cos{\\left(L \\sqrt{\\frac{P}{E R^{3} \\pi t}} \\right)}}\\right)}{2 R^{2} \\pi t} + \\frac{P \\left(1.0 + \\frac{0.04 \\left(R + 0.5 t\\right)}{R \\cos{\\left(L \\sqrt{\\frac{P}{E R^{3} \\pi t}} \\right)}}\\right)}{2 R^{2} \\pi t^{2}}\\\\\\frac{P \\left(\\frac{0.06 L^{2} \\frac{P}{E R^{3} \\pi t} \\left(R + 0.5 t\\right) \\sin^{2}{\\left(L \\sqrt{\\frac{P}{E R^{3} \\pi t}} \\right)}}{R^{2} t \\cos^{3}{\\left(L \\sqrt{\\frac{P}{E R^{3} \\pi t}} \\right)}} + \\frac{0.03 L^{2} \\frac{P}{E R^{3} \\pi t} \\left(R + 0.5 t\\right)}{R^{2} t \\cos{\\left(L \\sqrt{\\frac{P}{E R^{3} \\pi t}} \\right)}} - \\frac{0.02 L \\sqrt{\\frac{P}{E R^{3} \\pi t}} \\sin{\\left(L \\sqrt{\\frac{P}{E R^{3} \\pi t}} \\right)}}{R t \\cos^{2}{\\left(L \\sqrt{\\frac{P}{E R^{3} \\pi t}} \\right)}} - \\frac{0.03 L \\sqrt{\\frac{P}{E R^{3} \\pi t}} \\sin{\\left(L \\sqrt{\\frac{P}{E R^{3} \\pi t}} \\right)}}{R^{2} \\cos^{2}{\\left(L \\sqrt{\\frac{P}{E R^{3} \\pi t}} \\right)}} + \\frac{0.05 L \\sqrt{\\frac{P}{E R^{3} \\pi t}} \\left(R + 0.5 t\\right) \\sin{\\left(L \\sqrt{\\frac{P}{E R^{3} \\pi t}} \\right)}}{R^{2} t \\cos^{2}{\\left(L \\sqrt{\\frac{P}{E R^{3} \\pi t}} \\right)}} - \\frac{0.02}{R^{2} \\cos{\\left(L \\sqrt{\\frac{P}{E R^{3} \\pi t}} \\right)}}\\right)}{2 R \\pi t} - \\frac{P \\left(- \\frac{0.06 L \\sqrt{\\frac{P}{E R^{3} \\pi t}} \\left(R + 0.5 t\\right) \\sin{\\left(L \\sqrt{\\frac{P}{E R^{3} \\pi t}} \\right)}}{R^{2} \\cos^{2}{\\left(L \\sqrt{\\frac{P}{E R^{3} \\pi t}} \\right)}} + \\frac{0.04}{R \\cos{\\left(L \\sqrt{\\frac{P}{E R^{3} \\pi t}} \\right)}} - \\frac{0.04 \\left(R + 0.5 t\\right)}{R^{2} \\cos{\\left(L \\sqrt{\\frac{P}{E R^{3} \\pi t}} \\right)}}\\right)}{2 R \\pi t^{2}} - \\frac{P \\left(- \\frac{0.02 L \\sqrt{\\frac{P}{E R^{3} \\pi t}} \\left(R + 0.5 t\\right) \\sin{\\left(L \\sqrt{\\frac{P}{E R^{3} \\pi t}} \\right)}}{R t \\cos^{2}{\\left(L \\sqrt{\\frac{P}{E R^{3} \\pi t}} \\right)}} + \\frac{0.02}{R \\cos{\\left(L \\sqrt{\\frac{P}{E R^{3} \\pi t}} \\right)}}\\right)}{2 R^{2} \\pi t} + \\frac{P \\left(1.0 + \\frac{0.04 \\left(R + 0.5 t\\right)}{R \\cos{\\left(L \\sqrt{\\frac{P}{E R^{3} \\pi t}} \\right)}}\\right)}{2 R^{2} \\pi t^{2}} & \\frac{P \\left(\\frac{0.02 L^{2} \\frac{P}{E R^{3} \\pi t} \\left(R + 0.5 t\\right) \\sin^{2}{\\left(L \\sqrt{\\frac{P}{E R^{3} \\pi t}} \\right)}}{R t^{2} \\cos^{3}{\\left(L \\sqrt{\\frac{P}{E R^{3} \\pi t}} \\right)}} + \\frac{0.01 L^{2} \\frac{P}{E R^{3} \\pi t} \\left(R + 0.5 t\\right)}{R t^{2} \\cos{\\left(L \\sqrt{\\frac{P}{E R^{3} \\pi t}} \\right)}} - \\frac{0.02 L \\sqrt{\\frac{P}{E R^{3} \\pi t}} \\sin{\\left(L \\sqrt{\\frac{P}{E R^{3} \\pi t}} \\right)}}{R t \\cos^{2}{\\left(L \\sqrt{\\frac{P}{E R^{3} \\pi t}} \\right)}} + \\frac{0.03 L \\sqrt{\\frac{P}{E R^{3} \\pi t}} \\left(R + 0.5 t\\right) \\sin{\\left(L \\sqrt{\\frac{P}{E R^{3} \\pi t}} \\right)}}{R t^{2} \\cos^{2}{\\left(L \\sqrt{\\frac{P}{E R^{3} \\pi t}} \\right)}}\\right)}{2 R \\pi t} - \\frac{P \\left(- \\frac{0.02 L \\sqrt{\\frac{P}{E R^{3} \\pi t}} \\left(R + 0.5 t\\right) \\sin{\\left(L \\sqrt{\\frac{P}{E R^{3} \\pi t}} \\right)}}{R t \\cos^{2}{\\left(L \\sqrt{\\frac{P}{E R^{3} \\pi t}} \\right)}} + \\frac{0.02}{R \\cos{\\left(L \\sqrt{\\frac{P}{E R^{3} \\pi t}} \\right)}}\\right)}{R \\pi t^{2}} + \\frac{P \\left(1.0 + \\frac{0.04 \\left(R + 0.5 t\\right)}{R \\cos{\\left(L \\sqrt{\\frac{P}{E R^{3} \\pi t}} \\right)}}\\right)}{R \\pi t^{3}}\\end{matrix}\\right]$"
      ],
      "text/plain": [
       "Matrix([\n",
       "[                                                                                                                                                                                                                                 P*(0.18*L**2*(P/(E*R**3*pi*t))*(R + 0.5*t)*sin(L*sqrt(P/(E*R**3*pi*t)))**2/(R**3*cos(L*sqrt(P/(E*R**3*pi*t)))**3) + 0.09*L**2*(P/(E*R**3*pi*t))*(R + 0.5*t)/(R**3*cos(L*sqrt(P/(E*R**3*pi*t)))) - 0.12*L*sqrt(P/(E*R**3*pi*t))*sin(L*sqrt(P/(E*R**3*pi*t)))/(R**2*cos(L*sqrt(P/(E*R**3*pi*t)))**2) + 0.27*L*sqrt(P/(E*R**3*pi*t))*(R + 0.5*t)*sin(L*sqrt(P/(E*R**3*pi*t)))/(R**3*cos(L*sqrt(P/(E*R**3*pi*t)))**2) - 0.08/(R**2*cos(L*sqrt(P/(E*R**3*pi*t)))) + 0.08*(R + 0.5*t)/(R**3*cos(L*sqrt(P/(E*R**3*pi*t)))))/(2*R*pi*t) - P*(-0.06*L*sqrt(P/(E*R**3*pi*t))*(R + 0.5*t)*sin(L*sqrt(P/(E*R**3*pi*t)))/(R**2*cos(L*sqrt(P/(E*R**3*pi*t)))**2) + 0.04/(R*cos(L*sqrt(P/(E*R**3*pi*t)))) - 0.04*(R + 0.5*t)/(R**2*cos(L*sqrt(P/(E*R**3*pi*t)))))/(R**2*pi*t) + P*(1.0 + 0.04*(R + 0.5*t)/(R*cos(L*sqrt(P/(E*R**3*pi*t)))))/(R**3*pi*t), P*(0.06*L**2*(P/(E*R**3*pi*t))*(R + 0.5*t)*sin(L*sqrt(P/(E*R**3*pi*t)))**2/(R**2*t*cos(L*sqrt(P/(E*R**3*pi*t)))**3) + 0.03*L**2*(P/(E*R**3*pi*t))*(R + 0.5*t)/(R**2*t*cos(L*sqrt(P/(E*R**3*pi*t)))) - 0.02*L*sqrt(P/(E*R**3*pi*t))*sin(L*sqrt(P/(E*R**3*pi*t)))/(R*t*cos(L*sqrt(P/(E*R**3*pi*t)))**2) - 0.03*L*sqrt(P/(E*R**3*pi*t))*sin(L*sqrt(P/(E*R**3*pi*t)))/(R**2*cos(L*sqrt(P/(E*R**3*pi*t)))**2) + 0.05*L*sqrt(P/(E*R**3*pi*t))*(R + 0.5*t)*sin(L*sqrt(P/(E*R**3*pi*t)))/(R**2*t*cos(L*sqrt(P/(E*R**3*pi*t)))**2) - 0.02/(R**2*cos(L*sqrt(P/(E*R**3*pi*t)))))/(2*R*pi*t) - P*(-0.06*L*sqrt(P/(E*R**3*pi*t))*(R + 0.5*t)*sin(L*sqrt(P/(E*R**3*pi*t)))/(R**2*cos(L*sqrt(P/(E*R**3*pi*t)))**2) + 0.04/(R*cos(L*sqrt(P/(E*R**3*pi*t)))) - 0.04*(R + 0.5*t)/(R**2*cos(L*sqrt(P/(E*R**3*pi*t)))))/(2*R*pi*t**2) - P*(-0.02*L*sqrt(P/(E*R**3*pi*t))*(R + 0.5*t)*sin(L*sqrt(P/(E*R**3*pi*t)))/(R*t*cos(L*sqrt(P/(E*R**3*pi*t)))**2) + 0.02/(R*cos(L*sqrt(P/(E*R**3*pi*t)))))/(2*R**2*pi*t) + P*(1.0 + 0.04*(R + 0.5*t)/(R*cos(L*sqrt(P/(E*R**3*pi*t)))))/(2*R**2*pi*t**2)],\n",
       "[P*(0.06*L**2*(P/(E*R**3*pi*t))*(R + 0.5*t)*sin(L*sqrt(P/(E*R**3*pi*t)))**2/(R**2*t*cos(L*sqrt(P/(E*R**3*pi*t)))**3) + 0.03*L**2*(P/(E*R**3*pi*t))*(R + 0.5*t)/(R**2*t*cos(L*sqrt(P/(E*R**3*pi*t)))) - 0.02*L*sqrt(P/(E*R**3*pi*t))*sin(L*sqrt(P/(E*R**3*pi*t)))/(R*t*cos(L*sqrt(P/(E*R**3*pi*t)))**2) - 0.03*L*sqrt(P/(E*R**3*pi*t))*sin(L*sqrt(P/(E*R**3*pi*t)))/(R**2*cos(L*sqrt(P/(E*R**3*pi*t)))**2) + 0.05*L*sqrt(P/(E*R**3*pi*t))*(R + 0.5*t)*sin(L*sqrt(P/(E*R**3*pi*t)))/(R**2*t*cos(L*sqrt(P/(E*R**3*pi*t)))**2) - 0.02/(R**2*cos(L*sqrt(P/(E*R**3*pi*t)))))/(2*R*pi*t) - P*(-0.06*L*sqrt(P/(E*R**3*pi*t))*(R + 0.5*t)*sin(L*sqrt(P/(E*R**3*pi*t)))/(R**2*cos(L*sqrt(P/(E*R**3*pi*t)))**2) + 0.04/(R*cos(L*sqrt(P/(E*R**3*pi*t)))) - 0.04*(R + 0.5*t)/(R**2*cos(L*sqrt(P/(E*R**3*pi*t)))))/(2*R*pi*t**2) - P*(-0.02*L*sqrt(P/(E*R**3*pi*t))*(R + 0.5*t)*sin(L*sqrt(P/(E*R**3*pi*t)))/(R*t*cos(L*sqrt(P/(E*R**3*pi*t)))**2) + 0.02/(R*cos(L*sqrt(P/(E*R**3*pi*t)))))/(2*R**2*pi*t) + P*(1.0 + 0.04*(R + 0.5*t)/(R*cos(L*sqrt(P/(E*R**3*pi*t)))))/(2*R**2*pi*t**2),                                                                                                                                                                                                                                                                                                                                                                                       P*(0.02*L**2*(P/(E*R**3*pi*t))*(R + 0.5*t)*sin(L*sqrt(P/(E*R**3*pi*t)))**2/(R*t**2*cos(L*sqrt(P/(E*R**3*pi*t)))**3) + 0.01*L**2*(P/(E*R**3*pi*t))*(R + 0.5*t)/(R*t**2*cos(L*sqrt(P/(E*R**3*pi*t)))) - 0.02*L*sqrt(P/(E*R**3*pi*t))*sin(L*sqrt(P/(E*R**3*pi*t)))/(R*t*cos(L*sqrt(P/(E*R**3*pi*t)))**2) + 0.03*L*sqrt(P/(E*R**3*pi*t))*(R + 0.5*t)*sin(L*sqrt(P/(E*R**3*pi*t)))/(R*t**2*cos(L*sqrt(P/(E*R**3*pi*t)))**2))/(2*R*pi*t) - P*(-0.02*L*sqrt(P/(E*R**3*pi*t))*(R + 0.5*t)*sin(L*sqrt(P/(E*R**3*pi*t)))/(R*t*cos(L*sqrt(P/(E*R**3*pi*t)))**2) + 0.02/(R*cos(L*sqrt(P/(E*R**3*pi*t)))))/(R*pi*t**2) + P*(1.0 + 0.04*(R + 0.5*t)/(R*cos(L*sqrt(P/(E*R**3*pi*t)))))/(R*pi*t**3)]])"
      ]
     },
     "execution_count": 13,
     "metadata": {},
     "output_type": "execute_result"
    }
   ],
   "source": [
    "hessian"
   ]
  },
  {
   "cell_type": "code",
   "execution_count": 15,
   "metadata": {},
   "outputs": [
    {
     "name": "stdout",
     "output_type": "stream",
     "text": [
      "np.array([[(1/2)*P*(0.18*L**2*(P/(E*R**3*np.pi*t))*(R + 0.5*t)*np.sin(L*np.sqrt(P/(E*R**3*np.pi*t)))**2/(R**3*np.cos(L*np.sqrt(P/(E*R**3*np.pi*t)))**3) + 0.09*L**2*(P/(E*R**3*np.pi*t))*(R + 0.5*t)/(R**3*np.cos(L*np.sqrt(P/(E*R**3*np.pi*t)))) - 0.12*L*np.sqrt(P/(E*R**3*np.pi*t))*np.sin(L*np.sqrt(P/(E*R**3*np.pi*t)))/(R**2*np.cos(L*np.sqrt(P/(E*R**3*np.pi*t)))**2) + 0.27*L*np.sqrt(P/(E*R**3*np.pi*t))*(R + 0.5*t)*np.sin(L*np.sqrt(P/(E*R**3*np.pi*t)))/(R**3*np.cos(L*np.sqrt(P/(E*R**3*np.pi*t)))**2) - 0.08/(R**2*np.cos(L*np.sqrt(P/(E*R**3*np.pi*t)))) + 0.08*(R + 0.5*t)/(R**3*np.cos(L*np.sqrt(P/(E*R**3*np.pi*t)))))/(R*np.pi*t) - P*(-0.06*L*np.sqrt(P/(E*R**3*np.pi*t))*(R + 0.5*t)*np.sin(L*np.sqrt(P/(E*R**3*np.pi*t)))/(R**2*np.cos(L*np.sqrt(P/(E*R**3*np.pi*t)))**2) + 0.04/(R*np.cos(L*np.sqrt(P/(E*R**3*np.pi*t)))) - 0.04*(R + 0.5*t)/(R**2*np.cos(L*np.sqrt(P/(E*R**3*np.pi*t)))))/(R**2*np.pi*t) + P*(1.0 + 0.04*(R + 0.5*t)/(R*np.cos(L*np.sqrt(P/(E*R**3*np.pi*t)))))/(R**3*np.pi*t), (1/2)*P*(0.06*L**2*(P/(E*R**3*np.pi*t))*(R + 0.5*t)*np.sin(L*np.sqrt(P/(E*R**3*np.pi*t)))**2/(R**2*t*np.cos(L*np.sqrt(P/(E*R**3*np.pi*t)))**3) + 0.03*L**2*(P/(E*R**3*np.pi*t))*(R + 0.5*t)/(R**2*t*np.cos(L*np.sqrt(P/(E*R**3*np.pi*t)))) - 0.02*L*np.sqrt(P/(E*R**3*np.pi*t))*np.sin(L*np.sqrt(P/(E*R**3*np.pi*t)))/(R*t*np.cos(L*np.sqrt(P/(E*R**3*np.pi*t)))**2) - 0.03*L*np.sqrt(P/(E*R**3*np.pi*t))*np.sin(L*np.sqrt(P/(E*R**3*np.pi*t)))/(R**2*np.cos(L*np.sqrt(P/(E*R**3*np.pi*t)))**2) + 0.05*L*np.sqrt(P/(E*R**3*np.pi*t))*(R + 0.5*t)*np.sin(L*np.sqrt(P/(E*R**3*np.pi*t)))/(R**2*t*np.cos(L*np.sqrt(P/(E*R**3*np.pi*t)))**2) - 0.02/(R**2*np.cos(L*np.sqrt(P/(E*R**3*np.pi*t)))))/(R*np.pi*t) - 1/2*P*(-0.06*L*np.sqrt(P/(E*R**3*np.pi*t))*(R + 0.5*t)*np.sin(L*np.sqrt(P/(E*R**3*np.pi*t)))/(R**2*np.cos(L*np.sqrt(P/(E*R**3*np.pi*t)))**2) + 0.04/(R*np.cos(L*np.sqrt(P/(E*R**3*np.pi*t)))) - 0.04*(R + 0.5*t)/(R**2*np.cos(L*np.sqrt(P/(E*R**3*np.pi*t)))))/(R*np.pi*t**2) - 1/2*P*(-0.02*L*np.sqrt(P/(E*R**3*np.pi*t))*(R + 0.5*t)*np.sin(L*np.sqrt(P/(E*R**3*np.pi*t)))/(R*t*np.cos(L*np.sqrt(P/(E*R**3*np.pi*t)))**2) + 0.02/(R*np.cos(L*np.sqrt(P/(E*R**3*np.pi*t)))))/(R**2*np.pi*t) + (1/2)*P*(1.0 + 0.04*(R + 0.5*t)/(R*np.cos(L*np.sqrt(P/(E*R**3*np.pi*t)))))/(R**2*np.pi*t**2)], [(1/2)*P*(0.06*L**2*(P/(E*R**3*np.pi*t))*(R + 0.5*t)*np.sin(L*np.sqrt(P/(E*R**3*np.pi*t)))**2/(R**2*t*np.cos(L*np.sqrt(P/(E*R**3*np.pi*t)))**3) + 0.03*L**2*(P/(E*R**3*np.pi*t))*(R + 0.5*t)/(R**2*t*np.cos(L*np.sqrt(P/(E*R**3*np.pi*t)))) - 0.02*L*np.sqrt(P/(E*R**3*np.pi*t))*np.sin(L*np.sqrt(P/(E*R**3*np.pi*t)))/(R*t*np.cos(L*np.sqrt(P/(E*R**3*np.pi*t)))**2) - 0.03*L*np.sqrt(P/(E*R**3*np.pi*t))*np.sin(L*np.sqrt(P/(E*R**3*np.pi*t)))/(R**2*np.cos(L*np.sqrt(P/(E*R**3*np.pi*t)))**2) + 0.05*L*np.sqrt(P/(E*R**3*np.pi*t))*(R + 0.5*t)*np.sin(L*np.sqrt(P/(E*R**3*np.pi*t)))/(R**2*t*np.cos(L*np.sqrt(P/(E*R**3*np.pi*t)))**2) - 0.02/(R**2*np.cos(L*np.sqrt(P/(E*R**3*np.pi*t)))))/(R*np.pi*t) - 1/2*P*(-0.06*L*np.sqrt(P/(E*R**3*np.pi*t))*(R + 0.5*t)*np.sin(L*np.sqrt(P/(E*R**3*np.pi*t)))/(R**2*np.cos(L*np.sqrt(P/(E*R**3*np.pi*t)))**2) + 0.04/(R*np.cos(L*np.sqrt(P/(E*R**3*np.pi*t)))) - 0.04*(R + 0.5*t)/(R**2*np.cos(L*np.sqrt(P/(E*R**3*np.pi*t)))))/(R*np.pi*t**2) - 1/2*P*(-0.02*L*np.sqrt(P/(E*R**3*np.pi*t))*(R + 0.5*t)*np.sin(L*np.sqrt(P/(E*R**3*np.pi*t)))/(R*t*np.cos(L*np.sqrt(P/(E*R**3*np.pi*t)))**2) + 0.02/(R*np.cos(L*np.sqrt(P/(E*R**3*np.pi*t)))))/(R**2*np.pi*t) + (1/2)*P*(1.0 + 0.04*(R + 0.5*t)/(R*np.cos(L*np.sqrt(P/(E*R**3*np.pi*t)))))/(R**2*np.pi*t**2), (1/2)*P*(0.02*L**2*(P/(E*R**3*np.pi*t))*(R + 0.5*t)*np.sin(L*np.sqrt(P/(E*R**3*np.pi*t)))**2/(R*t**2*np.cos(L*np.sqrt(P/(E*R**3*np.pi*t)))**3) + 0.01*L**2*(P/(E*R**3*np.pi*t))*(R + 0.5*t)/(R*t**2*np.cos(L*np.sqrt(P/(E*R**3*np.pi*t)))) - 0.02*L*np.sqrt(P/(E*R**3*np.pi*t))*np.sin(L*np.sqrt(P/(E*R**3*np.pi*t)))/(R*t*np.cos(L*np.sqrt(P/(E*R**3*np.pi*t)))**2) + 0.03*L*np.sqrt(P/(E*R**3*np.pi*t))*(R + 0.5*t)*np.sin(L*np.sqrt(P/(E*R**3*np.pi*t)))/(R*t**2*np.cos(L*np.sqrt(P/(E*R**3*np.pi*t)))**2))/(R*np.pi*t) - P*(-0.02*L*np.sqrt(P/(E*R**3*np.pi*t))*(R + 0.5*t)*np.sin(L*np.sqrt(P/(E*R**3*np.pi*t)))/(R*t*np.cos(L*np.sqrt(P/(E*R**3*np.pi*t)))**2) + 0.02/(R*np.cos(L*np.sqrt(P/(E*R**3*np.pi*t)))))/(R*np.pi*t**2) + P*(1.0 + 0.04*(R + 0.5*t)/(R*np.cos(L*np.sqrt(P/(E*R**3*np.pi*t)))))/(R*np.pi*t**3)]])\n"
     ]
    }
   ],
   "source": [
    "str_hess = sp.pycode(hessian).replace('math', 'np').replace('ImmutableDenseMatrix', 'np.array').replace('\\\\','').replace('_','').replace('pi', 'np.pi')\n",
    "print(str_hess)"
   ]
  },
  {
   "cell_type": "code",
   "execution_count": 16,
   "metadata": {},
   "outputs": [],
   "source": [
    "delta = e * (1.0 / sp.cos(L*sp.sqrt(P/(E*I))) - 1)"
   ]
  },
  {
   "cell_type": "code",
   "execution_count": 17,
   "metadata": {},
   "outputs": [],
   "source": [
    "grad = sp.Matrix([delta]).jacobian(sp.Matrix([R, t]))"
   ]
  },
  {
   "cell_type": "code",
   "execution_count": 18,
   "metadata": {},
   "outputs": [
    {
     "name": "stdout",
     "output_type": "stream",
     "text": [
      "np.array([[-0.03*L*np.sqrt(P/(E*R**3*np.pi*t))*np.sin(L*np.sqrt(P/(E*R**3*np.pi*t)))/np.cos(L*np.sqrt(P/(E*R**3*np.pi*t)))**2 - 0.02 + 0.02/np.cos(L*np.sqrt(P/(E*R**3*np.pi*t))), -0.01*L*R*np.sqrt(P/(E*R**3*np.pi*t))*np.sin(L*np.sqrt(P/(E*R**3*np.pi*t)))/(t*np.cos(L*np.sqrt(P/(E*R**3*np.pi*t)))**2)]])\n"
     ]
    }
   ],
   "source": [
    "str_grad = sp.pycode(grad).replace('math', 'np').replace('ImmutableDenseMatrix', 'np.array').replace('\\\\','').replace('_','').replace('pi', 'np.pi')\n",
    "print(str_grad)"
   ]
  },
  {
   "cell_type": "code",
   "execution_count": 19,
   "metadata": {},
   "outputs": [],
   "source": [
    "hessian = sp.hessian(delta, [R, t])"
   ]
  },
  {
   "cell_type": "code",
   "execution_count": 20,
   "metadata": {},
   "outputs": [
    {
     "name": "stdout",
     "output_type": "stream",
     "text": [
      "np.array([[0.09*L**2*(P/(E*R**3*np.pi*t))*np.sin(L*np.sqrt(P/(E*R**3*np.pi*t)))**2/(R*np.cos(L*np.sqrt(P/(E*R**3*np.pi*t)))**3) + 0.045*L**2*(P/(E*R**3*np.pi*t))/(R*np.cos(L*np.sqrt(P/(E*R**3*np.pi*t)))) + 0.015*L*np.sqrt(P/(E*R**3*np.pi*t))*np.sin(L*np.sqrt(P/(E*R**3*np.pi*t)))/(R*np.cos(L*np.sqrt(P/(E*R**3*np.pi*t)))**2), 0.03*L**2*(P/(E*R**3*np.pi*t))*np.sin(L*np.sqrt(P/(E*R**3*np.pi*t)))**2/(t*np.cos(L*np.sqrt(P/(E*R**3*np.pi*t)))**3) + 0.015*L**2*(P/(E*R**3*np.pi*t))/(t*np.cos(L*np.sqrt(P/(E*R**3*np.pi*t)))) + 0.005*L*np.sqrt(P/(E*R**3*np.pi*t))*np.sin(L*np.sqrt(P/(E*R**3*np.pi*t)))/(t*np.cos(L*np.sqrt(P/(E*R**3*np.pi*t)))**2)], [0.03*L**2*(P/(E*R**3*np.pi*t))*np.sin(L*np.sqrt(P/(E*R**3*np.pi*t)))**2/(t*np.cos(L*np.sqrt(P/(E*R**3*np.pi*t)))**3) + 0.015*L**2*(P/(E*R**3*np.pi*t))/(t*np.cos(L*np.sqrt(P/(E*R**3*np.pi*t)))) + 0.005*L*np.sqrt(P/(E*R**3*np.pi*t))*np.sin(L*np.sqrt(P/(E*R**3*np.pi*t)))/(t*np.cos(L*np.sqrt(P/(E*R**3*np.pi*t)))**2), 0.01*L**2*R*(P/(E*R**3*np.pi*t))*np.sin(L*np.sqrt(P/(E*R**3*np.pi*t)))**2/(t**2*np.cos(L*np.sqrt(P/(E*R**3*np.pi*t)))**3) + 0.005*L**2*R*(P/(E*R**3*np.pi*t))/(t**2*np.cos(L*np.sqrt(P/(E*R**3*np.pi*t)))) + 0.015*L*R*np.sqrt(P/(E*R**3*np.pi*t))*np.sin(L*np.sqrt(P/(E*R**3*np.pi*t)))/(t**2*np.cos(L*np.sqrt(P/(E*R**3*np.pi*t)))**2)]])\n"
     ]
    }
   ],
   "source": [
    "str_hess = sp.pycode(hessian).replace('math', 'np').replace('ImmutableDenseMatrix', 'np.array').replace('\\\\','').replace('_','').replace('pi', 'np.pi')\n",
    "print(str_hess)"
   ]
  },
  {
   "cell_type": "code",
   "execution_count": 21,
   "metadata": {},
   "outputs": [],
   "source": [
    "ratio = R/t"
   ]
  },
  {
   "cell_type": "code",
   "execution_count": 22,
   "metadata": {},
   "outputs": [],
   "source": [
    "grad = sp.Matrix([ratio]).jacobian(sp.Matrix([R, t]))"
   ]
  },
  {
   "cell_type": "code",
   "execution_count": 23,
   "metadata": {},
   "outputs": [
    {
     "name": "stdout",
     "output_type": "stream",
     "text": [
      "np.array([[1/t, -R/t**2]])\n"
     ]
    }
   ],
   "source": [
    "str_grad = sp.pycode(grad).replace('math', 'np').replace('ImmutableDenseMatrix', 'np.array').replace('\\\\','').replace('_','').replace('pi', 'np.pi')\n",
    "print(str_grad)"
   ]
  },
  {
   "cell_type": "code",
   "execution_count": 24,
   "metadata": {},
   "outputs": [],
   "source": [
    "hessian = sp.hessian(ratio, [R, t])"
   ]
  },
  {
   "cell_type": "code",
   "execution_count": 25,
   "metadata": {},
   "outputs": [
    {
     "name": "stdout",
     "output_type": "stream",
     "text": [
      "np.array([[0, -1/t**2], [-1/t**2, 2*R/t**3]])\n"
     ]
    }
   ],
   "source": [
    "str_hess = sp.pycode(hessian).replace('math', 'np').replace('ImmutableDenseMatrix', 'np.array').replace('\\\\','').replace('_','').replace('pi', 'np.pi')\n",
    "print(str_hess)"
   ]
  },
  {
   "cell_type": "code",
   "execution_count": 27,
   "metadata": {},
   "outputs": [],
   "source": [
    "minPcrit = -0.25*pi**2 * E * I / L**2"
   ]
  },
  {
   "cell_type": "code",
   "execution_count": 28,
   "metadata": {},
   "outputs": [
    {
     "name": "stdout",
     "output_type": "stream",
     "text": [
      "np.array([[-0.75*E*R**2*np.pi**3*t/L**2, -0.25*E*R**3*np.pi**3/L**2]])\n"
     ]
    }
   ],
   "source": [
    "grad = sp.Matrix([minPcrit]).jacobian(sp.Matrix([R, t]))\n",
    "str_grad = sp.pycode(grad).replace('math', 'np').replace('ImmutableDenseMatrix', 'np.array').replace('\\\\','').replace('_','').replace('pi', 'np.pi')\n",
    "print(str_grad)"
   ]
  },
  {
   "cell_type": "code",
   "execution_count": 29,
   "metadata": {},
   "outputs": [
    {
     "name": "stdout",
     "output_type": "stream",
     "text": [
      "np.array([[-1.5*E*R*np.pi**3*t/L**2, -0.75*E*R**2*np.pi**3/L**2], [-0.75*E*R**2*np.pi**3/L**2, 0]])\n"
     ]
    }
   ],
   "source": [
    "hessian = sp.hessian(minPcrit, [R, t])\n",
    "str_hess = sp.pycode(hessian).replace('math', 'np').replace('ImmutableDenseMatrix', 'np.array').replace('\\\\','').replace('_','').replace('pi', 'np.pi')\n",
    "print(str_hess)"
   ]
  }
 ],
 "metadata": {
  "kernelspec": {
   "display_name": "sympy_env",
   "language": "python",
   "name": "python3"
  },
  "language_info": {
   "codemirror_mode": {
    "name": "ipython",
    "version": 3
   },
   "file_extension": ".py",
   "mimetype": "text/x-python",
   "name": "python",
   "nbconvert_exporter": "python",
   "pygments_lexer": "ipython3",
   "version": "3.10.6"
  },
  "orig_nbformat": 4
 },
 "nbformat": 4,
 "nbformat_minor": 2
}

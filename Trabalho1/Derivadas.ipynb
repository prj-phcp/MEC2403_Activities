{
 "cells": [
  {
   "cell_type": "code",
   "execution_count": 1,
   "metadata": {},
   "outputs": [],
   "source": [
    "import sympy as sp"
   ]
  },
  {
   "cell_type": "code",
   "execution_count": 2,
   "metadata": {},
   "outputs": [],
   "source": [
    "x1, x2, EA1, EA2, L1, L2, rho1, rho2 = sp.symbols('x_1, x_2, EA_1, EA_2, L_1, L_2, \\\\rho_1, \\\\rho_2')"
   ]
  },
  {
   "cell_type": "code",
   "execution_count": 3,
   "metadata": {},
   "outputs": [],
   "source": [
    "f = 0.5*EA1/L1 * (sp.sqrt((L1 + x1)**2 + x2**2) - L1) **2 + 0.5*EA2/L2 * (sp.sqrt((L2 - x1)**2 + x2**2) - L2) **2 - (rho1*L1/2.0 + rho2*L2/2.0)*x2"
   ]
  },
  {
   "cell_type": "code",
   "execution_count": 6,
   "metadata": {},
   "outputs": [
    {
     "data": {
      "text/latex": [
       "$\\displaystyle \\frac{0.5 EA_{1} \\left(- L_{1} + \\sqrt{x_{2}^{2} + \\left(L_{1} + x_{1}\\right)^{2}}\\right)^{2}}{L_{1}} + \\frac{0.5 EA_{2} \\left(- L_{2} + \\sqrt{x_{2}^{2} + \\left(L_{2} - x_{1}\\right)^{2}}\\right)^{2}}{L_{2}} - x_{2} \\cdot \\left(0.5 L_{1} \\rho_{1} + 0.5 L_{2} \\rho_{2}\\right)$"
      ],
      "text/plain": [
       "0.5*EA_1*(-L_1 + sqrt(x_2**2 + (L_1 + x_1)**2))**2/L_1 + 0.5*EA_2*(-L_2 + sqrt(x_2**2 + (L_2 - x_1)**2))**2/L_2 - x_2*(0.5*L_1*\\rho_1 + 0.5*L_2*\\rho_2)"
      ]
     },
     "execution_count": 6,
     "metadata": {},
     "output_type": "execute_result"
    }
   ],
   "source": [
    "f"
   ]
  },
  {
   "cell_type": "code",
   "execution_count": 7,
   "metadata": {},
   "outputs": [],
   "source": [
    "grad = sp.Matrix([f]).jacobian(sp.Matrix([x1, x2]))"
   ]
  },
  {
   "cell_type": "code",
   "execution_count": 8,
   "metadata": {},
   "outputs": [
    {
     "data": {
      "text/latex": [
       "$\\displaystyle \\left[\\begin{matrix}\\frac{1.0 EA_{1} \\left(- L_{1} + \\sqrt{x_{2}^{2} + \\left(L_{1} + x_{1}\\right)^{2}}\\right) \\left(L_{1} + x_{1}\\right)}{L_{1} \\sqrt{x_{2}^{2} + \\left(L_{1} + x_{1}\\right)^{2}}} + \\frac{1.0 EA_{2} \\left(- L_{2} + x_{1}\\right) \\left(- L_{2} + \\sqrt{x_{2}^{2} + \\left(L_{2} - x_{1}\\right)^{2}}\\right)}{L_{2} \\sqrt{x_{2}^{2} + \\left(L_{2} - x_{1}\\right)^{2}}} & \\frac{1.0 EA_{1} x_{2} \\left(- L_{1} + \\sqrt{x_{2}^{2} + \\left(L_{1} + x_{1}\\right)^{2}}\\right)}{L_{1} \\sqrt{x_{2}^{2} + \\left(L_{1} + x_{1}\\right)^{2}}} + \\frac{1.0 EA_{2} x_{2} \\left(- L_{2} + \\sqrt{x_{2}^{2} + \\left(L_{2} - x_{1}\\right)^{2}}\\right)}{L_{2} \\sqrt{x_{2}^{2} + \\left(L_{2} - x_{1}\\right)^{2}}} - 0.5 L_{1} \\rho_{1} - 0.5 L_{2} \\rho_{2}\\end{matrix}\\right]$"
      ],
      "text/plain": [
       "Matrix([[1.0*EA_1*(-L_1 + sqrt(x_2**2 + (L_1 + x_1)**2))*(L_1 + x_1)/(L_1*sqrt(x_2**2 + (L_1 + x_1)**2)) + 1.0*EA_2*(-L_2 + x_1)*(-L_2 + sqrt(x_2**2 + (L_2 - x_1)**2))/(L_2*sqrt(x_2**2 + (L_2 - x_1)**2)), 1.0*EA_1*x_2*(-L_1 + sqrt(x_2**2 + (L_1 + x_1)**2))/(L_1*sqrt(x_2**2 + (L_1 + x_1)**2)) + 1.0*EA_2*x_2*(-L_2 + sqrt(x_2**2 + (L_2 - x_1)**2))/(L_2*sqrt(x_2**2 + (L_2 - x_1)**2)) - 0.5*L_1*\\rho_1 - 0.5*L_2*\\rho_2]])"
      ]
     },
     "execution_count": 8,
     "metadata": {},
     "output_type": "execute_result"
    }
   ],
   "source": [
    "grad"
   ]
  },
  {
   "cell_type": "code",
   "execution_count": 20,
   "metadata": {},
   "outputs": [
    {
     "data": {
      "text/plain": [
       "'np.array([[1.0*EA1*(-L1 + np.sqrt(x2**2 + (L1 + x1)**2))*(L1 + x1)/(L1*np.sqrt(x2**2 + (L1 + x1)**2)) + 1.0*EA2*(-L2 + x1)*(-L2 + np.sqrt(x2**2 + (L2 - x1)**2))/(L2*np.sqrt(x2**2 + (L2 - x1)**2)), 1.0*EA1*x2*(-L1 + np.sqrt(x2**2 + (L1 + x1)**2))/(L1*np.sqrt(x2**2 + (L1 + x1)**2)) + 1.0*EA2*x2*(-L2 + np.sqrt(x2**2 + (L2 - x1)**2))/(L2*np.sqrt(x2**2 + (L2 - x1)**2)) - 0.5*L1*rho1 - 0.5*L2*rho2]])'"
      ]
     },
     "execution_count": 20,
     "metadata": {},
     "output_type": "execute_result"
    }
   ],
   "source": [
    "str_grad = sp.pycode(grad).replace('math', 'np').replace('ImmutableDenseMatrix', 'np.array').replace('\\\\','').replace('_','')\n",
    "str_grad"
   ]
  },
  {
   "cell_type": "code",
   "execution_count": 24,
   "metadata": {},
   "outputs": [
    {
     "data": {
      "text/plain": [
       "'\\\\left[\\\\begin{matrix}\\\\frac{1.0 EA_{1} \\\\left(- L_{1} + \\\\sqrt{x_{2}^{2} + \\\\left(L_{1} + x_{1}\\\\right)^{2}}\\\\right) \\\\left(L_{1} + x_{1}\\\\right)}{L_{1} \\\\sqrt{x_{2}^{2} + \\\\left(L_{1} + x_{1}\\\\right)^{2}}} + \\\\frac{1.0 EA_{2} \\\\left(- L_{2} + x_{1}\\\\right) \\\\left(- L_{2} + \\\\sqrt{x_{2}^{2} + \\\\left(L_{2} - x_{1}\\\\right)^{2}}\\\\right)}{L_{2} \\\\sqrt{x_{2}^{2} + \\\\left(L_{2} - x_{1}\\\\right)^{2}}} & \\\\frac{1.0 EA_{1} x_{2} \\\\left(- L_{1} + \\\\sqrt{x_{2}^{2} + \\\\left(L_{1} + x_{1}\\\\right)^{2}}\\\\right)}{L_{1} \\\\sqrt{x_{2}^{2} + \\\\left(L_{1} + x_{1}\\\\right)^{2}}} + \\\\frac{1.0 EA_{2} x_{2} \\\\left(- L_{2} + \\\\sqrt{x_{2}^{2} + \\\\left(L_{2} - x_{1}\\\\right)^{2}}\\\\right)}{L_{2} \\\\sqrt{x_{2}^{2} + \\\\left(L_{2} - x_{1}\\\\right)^{2}}} - 0.5 L_{1} \\\\rho_{1} - 0.5 L_{2} \\\\rho_{2}\\\\end{matrix}\\\\right]'"
      ]
     },
     "execution_count": 24,
     "metadata": {},
     "output_type": "execute_result"
    }
   ],
   "source": [
    "sp.latex(grad)"
   ]
  },
  {
   "cell_type": "code",
   "execution_count": 21,
   "metadata": {},
   "outputs": [],
   "source": [
    "hessian = sp.hessian(f, [x1, x2])"
   ]
  },
  {
   "cell_type": "code",
   "execution_count": 22,
   "metadata": {},
   "outputs": [
    {
     "data": {
      "text/latex": [
       "$\\displaystyle \\left[\\begin{matrix}\\frac{1.0 EA_{1} \\left(- L_{1} - x_{1}\\right) \\left(- L_{1} + \\sqrt{x_{2}^{2} + \\left(L_{1} + x_{1}\\right)^{2}}\\right) \\left(L_{1} + x_{1}\\right)}{L_{1} \\left(x_{2}^{2} + \\left(L_{1} + x_{1}\\right)^{2}\\right)^{\\frac{3}{2}}} + \\frac{1.0 EA_{1} \\left(- L_{1} + \\sqrt{x_{2}^{2} + \\left(L_{1} + x_{1}\\right)^{2}}\\right)}{L_{1} \\sqrt{x_{2}^{2} + \\left(L_{1} + x_{1}\\right)^{2}}} + \\frac{1.0 EA_{1} \\left(L_{1} + x_{1}\\right)^{2}}{L_{1} \\left(x_{2}^{2} + \\left(L_{1} + x_{1}\\right)^{2}\\right)} + \\frac{1.0 EA_{2} \\left(- L_{2} + x_{1}\\right)^{2}}{L_{2} \\left(x_{2}^{2} + \\left(L_{2} - x_{1}\\right)^{2}\\right)} + \\frac{1.0 EA_{2} \\left(- L_{2} + x_{1}\\right) \\left(- L_{2} + \\sqrt{x_{2}^{2} + \\left(L_{2} - x_{1}\\right)^{2}}\\right) \\left(L_{2} - x_{1}\\right)}{L_{2} \\left(x_{2}^{2} + \\left(L_{2} - x_{1}\\right)^{2}\\right)^{\\frac{3}{2}}} + \\frac{1.0 EA_{2} \\left(- L_{2} + \\sqrt{x_{2}^{2} + \\left(L_{2} - x_{1}\\right)^{2}}\\right)}{L_{2} \\sqrt{x_{2}^{2} + \\left(L_{2} - x_{1}\\right)^{2}}} & - \\frac{1.0 EA_{1} x_{2} \\left(- L_{1} + \\sqrt{x_{2}^{2} + \\left(L_{1} + x_{1}\\right)^{2}}\\right) \\left(L_{1} + x_{1}\\right)}{L_{1} \\left(x_{2}^{2} + \\left(L_{1} + x_{1}\\right)^{2}\\right)^{\\frac{3}{2}}} + \\frac{1.0 EA_{1} x_{2} \\left(L_{1} + x_{1}\\right)}{L_{1} \\left(x_{2}^{2} + \\left(L_{1} + x_{1}\\right)^{2}\\right)} - \\frac{1.0 EA_{2} x_{2} \\left(- L_{2} + x_{1}\\right) \\left(- L_{2} + \\sqrt{x_{2}^{2} + \\left(L_{2} - x_{1}\\right)^{2}}\\right)}{L_{2} \\left(x_{2}^{2} + \\left(L_{2} - x_{1}\\right)^{2}\\right)^{\\frac{3}{2}}} + \\frac{1.0 EA_{2} x_{2} \\left(- L_{2} + x_{1}\\right)}{L_{2} \\left(x_{2}^{2} + \\left(L_{2} - x_{1}\\right)^{2}\\right)}\\\\- \\frac{1.0 EA_{1} x_{2} \\left(- L_{1} + \\sqrt{x_{2}^{2} + \\left(L_{1} + x_{1}\\right)^{2}}\\right) \\left(L_{1} + x_{1}\\right)}{L_{1} \\left(x_{2}^{2} + \\left(L_{1} + x_{1}\\right)^{2}\\right)^{\\frac{3}{2}}} + \\frac{1.0 EA_{1} x_{2} \\left(L_{1} + x_{1}\\right)}{L_{1} \\left(x_{2}^{2} + \\left(L_{1} + x_{1}\\right)^{2}\\right)} - \\frac{1.0 EA_{2} x_{2} \\left(- L_{2} + x_{1}\\right) \\left(- L_{2} + \\sqrt{x_{2}^{2} + \\left(L_{2} - x_{1}\\right)^{2}}\\right)}{L_{2} \\left(x_{2}^{2} + \\left(L_{2} - x_{1}\\right)^{2}\\right)^{\\frac{3}{2}}} + \\frac{1.0 EA_{2} x_{2} \\left(- L_{2} + x_{1}\\right)}{L_{2} \\left(x_{2}^{2} + \\left(L_{2} - x_{1}\\right)^{2}\\right)} & - \\frac{1.0 EA_{1} x_{2}^{2} \\left(- L_{1} + \\sqrt{x_{2}^{2} + \\left(L_{1} + x_{1}\\right)^{2}}\\right)}{L_{1} \\left(x_{2}^{2} + \\left(L_{1} + x_{1}\\right)^{2}\\right)^{\\frac{3}{2}}} + \\frac{1.0 EA_{1} x_{2}^{2}}{L_{1} \\left(x_{2}^{2} + \\left(L_{1} + x_{1}\\right)^{2}\\right)} + \\frac{1.0 EA_{1} \\left(- L_{1} + \\sqrt{x_{2}^{2} + \\left(L_{1} + x_{1}\\right)^{2}}\\right)}{L_{1} \\sqrt{x_{2}^{2} + \\left(L_{1} + x_{1}\\right)^{2}}} - \\frac{1.0 EA_{2} x_{2}^{2} \\left(- L_{2} + \\sqrt{x_{2}^{2} + \\left(L_{2} - x_{1}\\right)^{2}}\\right)}{L_{2} \\left(x_{2}^{2} + \\left(L_{2} - x_{1}\\right)^{2}\\right)^{\\frac{3}{2}}} + \\frac{1.0 EA_{2} x_{2}^{2}}{L_{2} \\left(x_{2}^{2} + \\left(L_{2} - x_{1}\\right)^{2}\\right)} + \\frac{1.0 EA_{2} \\left(- L_{2} + \\sqrt{x_{2}^{2} + \\left(L_{2} - x_{1}\\right)^{2}}\\right)}{L_{2} \\sqrt{x_{2}^{2} + \\left(L_{2} - x_{1}\\right)^{2}}}\\end{matrix}\\right]$"
      ],
      "text/plain": [
       "Matrix([\n",
       "[1.0*EA_1*(-L_1 - x_1)*(-L_1 + sqrt(x_2**2 + (L_1 + x_1)**2))*(L_1 + x_1)/(L_1*(x_2**2 + (L_1 + x_1)**2)**(3/2)) + 1.0*EA_1*(-L_1 + sqrt(x_2**2 + (L_1 + x_1)**2))/(L_1*sqrt(x_2**2 + (L_1 + x_1)**2)) + 1.0*EA_1*(L_1 + x_1)**2/(L_1*(x_2**2 + (L_1 + x_1)**2)) + 1.0*EA_2*(-L_2 + x_1)**2/(L_2*(x_2**2 + (L_2 - x_1)**2)) + 1.0*EA_2*(-L_2 + x_1)*(-L_2 + sqrt(x_2**2 + (L_2 - x_1)**2))*(L_2 - x_1)/(L_2*(x_2**2 + (L_2 - x_1)**2)**(3/2)) + 1.0*EA_2*(-L_2 + sqrt(x_2**2 + (L_2 - x_1)**2))/(L_2*sqrt(x_2**2 + (L_2 - x_1)**2)),                                                                                                                                       -1.0*EA_1*x_2*(-L_1 + sqrt(x_2**2 + (L_1 + x_1)**2))*(L_1 + x_1)/(L_1*(x_2**2 + (L_1 + x_1)**2)**(3/2)) + 1.0*EA_1*x_2*(L_1 + x_1)/(L_1*(x_2**2 + (L_1 + x_1)**2)) - 1.0*EA_2*x_2*(-L_2 + x_1)*(-L_2 + sqrt(x_2**2 + (L_2 - x_1)**2))/(L_2*(x_2**2 + (L_2 - x_1)**2)**(3/2)) + 1.0*EA_2*x_2*(-L_2 + x_1)/(L_2*(x_2**2 + (L_2 - x_1)**2))],\n",
       "[                                                                                                                                                                                          -1.0*EA_1*x_2*(-L_1 + sqrt(x_2**2 + (L_1 + x_1)**2))*(L_1 + x_1)/(L_1*(x_2**2 + (L_1 + x_1)**2)**(3/2)) + 1.0*EA_1*x_2*(L_1 + x_1)/(L_1*(x_2**2 + (L_1 + x_1)**2)) - 1.0*EA_2*x_2*(-L_2 + x_1)*(-L_2 + sqrt(x_2**2 + (L_2 - x_1)**2))/(L_2*(x_2**2 + (L_2 - x_1)**2)**(3/2)) + 1.0*EA_2*x_2*(-L_2 + x_1)/(L_2*(x_2**2 + (L_2 - x_1)**2)), -1.0*EA_1*x_2**2*(-L_1 + sqrt(x_2**2 + (L_1 + x_1)**2))/(L_1*(x_2**2 + (L_1 + x_1)**2)**(3/2)) + 1.0*EA_1*x_2**2/(L_1*(x_2**2 + (L_1 + x_1)**2)) + 1.0*EA_1*(-L_1 + sqrt(x_2**2 + (L_1 + x_1)**2))/(L_1*sqrt(x_2**2 + (L_1 + x_1)**2)) - 1.0*EA_2*x_2**2*(-L_2 + sqrt(x_2**2 + (L_2 - x_1)**2))/(L_2*(x_2**2 + (L_2 - x_1)**2)**(3/2)) + 1.0*EA_2*x_2**2/(L_2*(x_2**2 + (L_2 - x_1)**2)) + 1.0*EA_2*(-L_2 + sqrt(x_2**2 + (L_2 - x_1)**2))/(L_2*sqrt(x_2**2 + (L_2 - x_1)**2))]])"
      ]
     },
     "execution_count": 22,
     "metadata": {},
     "output_type": "execute_result"
    }
   ],
   "source": [
    "hessian"
   ]
  },
  {
   "cell_type": "code",
   "execution_count": 23,
   "metadata": {},
   "outputs": [
    {
     "data": {
      "text/plain": [
       "'np.array([[1.0*EA1*(-L1 - x1)*(-L1 + np.sqrt(x2**2 + (L1 + x1)**2))*(L1 + x1)/(L1*(x2**2 + (L1 + x1)**2)**(3/2)) + 1.0*EA1*(-L1 + np.sqrt(x2**2 + (L1 + x1)**2))/(L1*np.sqrt(x2**2 + (L1 + x1)**2)) + 1.0*EA1*(L1 + x1)**2/(L1*(x2**2 + (L1 + x1)**2)) + 1.0*EA2*(-L2 + x1)**2/(L2*(x2**2 + (L2 - x1)**2)) + 1.0*EA2*(-L2 + x1)*(-L2 + np.sqrt(x2**2 + (L2 - x1)**2))*(L2 - x1)/(L2*(x2**2 + (L2 - x1)**2)**(3/2)) + 1.0*EA2*(-L2 + np.sqrt(x2**2 + (L2 - x1)**2))/(L2*np.sqrt(x2**2 + (L2 - x1)**2)), -1.0*EA1*x2*(-L1 + np.sqrt(x2**2 + (L1 + x1)**2))*(L1 + x1)/(L1*(x2**2 + (L1 + x1)**2)**(3/2)) + 1.0*EA1*x2*(L1 + x1)/(L1*(x2**2 + (L1 + x1)**2)) - 1.0*EA2*x2*(-L2 + x1)*(-L2 + np.sqrt(x2**2 + (L2 - x1)**2))/(L2*(x2**2 + (L2 - x1)**2)**(3/2)) + 1.0*EA2*x2*(-L2 + x1)/(L2*(x2**2 + (L2 - x1)**2))], [-1.0*EA1*x2*(-L1 + np.sqrt(x2**2 + (L1 + x1)**2))*(L1 + x1)/(L1*(x2**2 + (L1 + x1)**2)**(3/2)) + 1.0*EA1*x2*(L1 + x1)/(L1*(x2**2 + (L1 + x1)**2)) - 1.0*EA2*x2*(-L2 + x1)*(-L2 + np.sqrt(x2**2 + (L2 - x1)**2))/(L2*(x2**2 + (L2 - x1)**2)**(3/2)) + 1.0*EA2*x2*(-L2 + x1)/(L2*(x2**2 + (L2 - x1)**2)), -1.0*EA1*x2**2*(-L1 + np.sqrt(x2**2 + (L1 + x1)**2))/(L1*(x2**2 + (L1 + x1)**2)**(3/2)) + 1.0*EA1*x2**2/(L1*(x2**2 + (L1 + x1)**2)) + 1.0*EA1*(-L1 + np.sqrt(x2**2 + (L1 + x1)**2))/(L1*np.sqrt(x2**2 + (L1 + x1)**2)) - 1.0*EA2*x2**2*(-L2 + np.sqrt(x2**2 + (L2 - x1)**2))/(L2*(x2**2 + (L2 - x1)**2)**(3/2)) + 1.0*EA2*x2**2/(L2*(x2**2 + (L2 - x1)**2)) + 1.0*EA2*(-L2 + np.sqrt(x2**2 + (L2 - x1)**2))/(L2*np.sqrt(x2**2 + (L2 - x1)**2))]])'"
      ]
     },
     "execution_count": 23,
     "metadata": {},
     "output_type": "execute_result"
    }
   ],
   "source": [
    "str_hess = sp.pycode(hessian).replace('math', 'np').replace('ImmutableDenseMatrix', 'np.array').replace('\\\\','').replace('_','')\n",
    "str_hess"
   ]
  },
  {
   "cell_type": "code",
   "execution_count": 25,
   "metadata": {},
   "outputs": [
    {
     "data": {
      "text/plain": [
       "'\\\\left[\\\\begin{matrix}\\\\frac{1.0 EA_{1} \\\\left(- L_{1} - x_{1}\\\\right) \\\\left(- L_{1} + \\\\sqrt{x_{2}^{2} + \\\\left(L_{1} + x_{1}\\\\right)^{2}}\\\\right) \\\\left(L_{1} + x_{1}\\\\right)}{L_{1} \\\\left(x_{2}^{2} + \\\\left(L_{1} + x_{1}\\\\right)^{2}\\\\right)^{\\\\frac{3}{2}}} + \\\\frac{1.0 EA_{1} \\\\left(- L_{1} + \\\\sqrt{x_{2}^{2} + \\\\left(L_{1} + x_{1}\\\\right)^{2}}\\\\right)}{L_{1} \\\\sqrt{x_{2}^{2} + \\\\left(L_{1} + x_{1}\\\\right)^{2}}} + \\\\frac{1.0 EA_{1} \\\\left(L_{1} + x_{1}\\\\right)^{2}}{L_{1} \\\\left(x_{2}^{2} + \\\\left(L_{1} + x_{1}\\\\right)^{2}\\\\right)} + \\\\frac{1.0 EA_{2} \\\\left(- L_{2} + x_{1}\\\\right)^{2}}{L_{2} \\\\left(x_{2}^{2} + \\\\left(L_{2} - x_{1}\\\\right)^{2}\\\\right)} + \\\\frac{1.0 EA_{2} \\\\left(- L_{2} + x_{1}\\\\right) \\\\left(- L_{2} + \\\\sqrt{x_{2}^{2} + \\\\left(L_{2} - x_{1}\\\\right)^{2}}\\\\right) \\\\left(L_{2} - x_{1}\\\\right)}{L_{2} \\\\left(x_{2}^{2} + \\\\left(L_{2} - x_{1}\\\\right)^{2}\\\\right)^{\\\\frac{3}{2}}} + \\\\frac{1.0 EA_{2} \\\\left(- L_{2} + \\\\sqrt{x_{2}^{2} + \\\\left(L_{2} - x_{1}\\\\right)^{2}}\\\\right)}{L_{2} \\\\sqrt{x_{2}^{2} + \\\\left(L_{2} - x_{1}\\\\right)^{2}}} & - \\\\frac{1.0 EA_{1} x_{2} \\\\left(- L_{1} + \\\\sqrt{x_{2}^{2} + \\\\left(L_{1} + x_{1}\\\\right)^{2}}\\\\right) \\\\left(L_{1} + x_{1}\\\\right)}{L_{1} \\\\left(x_{2}^{2} + \\\\left(L_{1} + x_{1}\\\\right)^{2}\\\\right)^{\\\\frac{3}{2}}} + \\\\frac{1.0 EA_{1} x_{2} \\\\left(L_{1} + x_{1}\\\\right)}{L_{1} \\\\left(x_{2}^{2} + \\\\left(L_{1} + x_{1}\\\\right)^{2}\\\\right)} - \\\\frac{1.0 EA_{2} x_{2} \\\\left(- L_{2} + x_{1}\\\\right) \\\\left(- L_{2} + \\\\sqrt{x_{2}^{2} + \\\\left(L_{2} - x_{1}\\\\right)^{2}}\\\\right)}{L_{2} \\\\left(x_{2}^{2} + \\\\left(L_{2} - x_{1}\\\\right)^{2}\\\\right)^{\\\\frac{3}{2}}} + \\\\frac{1.0 EA_{2} x_{2} \\\\left(- L_{2} + x_{1}\\\\right)}{L_{2} \\\\left(x_{2}^{2} + \\\\left(L_{2} - x_{1}\\\\right)^{2}\\\\right)}\\\\\\\\- \\\\frac{1.0 EA_{1} x_{2} \\\\left(- L_{1} + \\\\sqrt{x_{2}^{2} + \\\\left(L_{1} + x_{1}\\\\right)^{2}}\\\\right) \\\\left(L_{1} + x_{1}\\\\right)}{L_{1} \\\\left(x_{2}^{2} + \\\\left(L_{1} + x_{1}\\\\right)^{2}\\\\right)^{\\\\frac{3}{2}}} + \\\\frac{1.0 EA_{1} x_{2} \\\\left(L_{1} + x_{1}\\\\right)}{L_{1} \\\\left(x_{2}^{2} + \\\\left(L_{1} + x_{1}\\\\right)^{2}\\\\right)} - \\\\frac{1.0 EA_{2} x_{2} \\\\left(- L_{2} + x_{1}\\\\right) \\\\left(- L_{2} + \\\\sqrt{x_{2}^{2} + \\\\left(L_{2} - x_{1}\\\\right)^{2}}\\\\right)}{L_{2} \\\\left(x_{2}^{2} + \\\\left(L_{2} - x_{1}\\\\right)^{2}\\\\right)^{\\\\frac{3}{2}}} + \\\\frac{1.0 EA_{2} x_{2} \\\\left(- L_{2} + x_{1}\\\\right)}{L_{2} \\\\left(x_{2}^{2} + \\\\left(L_{2} - x_{1}\\\\right)^{2}\\\\right)} & - \\\\frac{1.0 EA_{1} x_{2}^{2} \\\\left(- L_{1} + \\\\sqrt{x_{2}^{2} + \\\\left(L_{1} + x_{1}\\\\right)^{2}}\\\\right)}{L_{1} \\\\left(x_{2}^{2} + \\\\left(L_{1} + x_{1}\\\\right)^{2}\\\\right)^{\\\\frac{3}{2}}} + \\\\frac{1.0 EA_{1} x_{2}^{2}}{L_{1} \\\\left(x_{2}^{2} + \\\\left(L_{1} + x_{1}\\\\right)^{2}\\\\right)} + \\\\frac{1.0 EA_{1} \\\\left(- L_{1} + \\\\sqrt{x_{2}^{2} + \\\\left(L_{1} + x_{1}\\\\right)^{2}}\\\\right)}{L_{1} \\\\sqrt{x_{2}^{2} + \\\\left(L_{1} + x_{1}\\\\right)^{2}}} - \\\\frac{1.0 EA_{2} x_{2}^{2} \\\\left(- L_{2} + \\\\sqrt{x_{2}^{2} + \\\\left(L_{2} - x_{1}\\\\right)^{2}}\\\\right)}{L_{2} \\\\left(x_{2}^{2} + \\\\left(L_{2} - x_{1}\\\\right)^{2}\\\\right)^{\\\\frac{3}{2}}} + \\\\frac{1.0 EA_{2} x_{2}^{2}}{L_{2} \\\\left(x_{2}^{2} + \\\\left(L_{2} - x_{1}\\\\right)^{2}\\\\right)} + \\\\frac{1.0 EA_{2} \\\\left(- L_{2} + \\\\sqrt{x_{2}^{2} + \\\\left(L_{2} - x_{1}\\\\right)^{2}}\\\\right)}{L_{2} \\\\sqrt{x_{2}^{2} + \\\\left(L_{2} - x_{1}\\\\right)^{2}}}\\\\end{matrix}\\\\right]'"
      ]
     },
     "execution_count": 25,
     "metadata": {},
     "output_type": "execute_result"
    }
   ],
   "source": [
    "sp.latex(hessian)"
   ]
  }
 ],
 "metadata": {
  "kernelspec": {
   "display_name": "sympy_env",
   "language": "python",
   "name": "python3"
  },
  "language_info": {
   "codemirror_mode": {
    "name": "ipython",
    "version": 3
   },
   "file_extension": ".py",
   "mimetype": "text/x-python",
   "name": "python",
   "nbconvert_exporter": "python",
   "pygments_lexer": "ipython3",
   "version": "3.10.6"
  },
  "orig_nbformat": 4
 },
 "nbformat": 4,
 "nbformat_minor": 2
}
